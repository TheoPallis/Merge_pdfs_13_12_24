{
 "cells": [
  {
   "cell_type": "code",
   "execution_count": null,
   "metadata": {},
   "outputs": [],
   "source": [
    "import os\n",
    "os.listdir(os.getcwd())\n",
    "text_file = r\"C:\\Users\\pallist\\Desktop\\Desktop\\ΤΡΕΧΟΝΤΑ\\Code November 2024\\ΔΕΗ code\\pairs.txt\"\n",
    "contents = open(text_file, \"r\", encoding=\"utf-8\").read()\n",
    "list = contents.split(\"\\n\")\n",
    "main_dir = r\"\\\\lawoffice\\Applications\\ScanDocs\\ΔΕΗ\\Έργο Αγωγών 2024\\2. Έγγραφα\"\n",
    "\n"
   ]
  },
  {
   "cell_type": "code",
   "execution_count": null,
   "metadata": {},
   "outputs": [],
   "source": [
    "paroxes_with_merged_in_main = []\n",
    "main_list = [os.path.join(main_dir, x) for x in list]\n",
    "for path in main_list:\n",
    "    if any('merged' in file for file in os.listdir(path)):\n",
    "        paroxes_with_merged_in_main.append(os.path.basename(path))\n",
    "        "
   ]
  },
  {
   "cell_type": "code",
   "execution_count": null,
   "metadata": {},
   "outputs": [],
   "source": [
    "full_path_list = [os.path.join(main_dir, x,\"Λογαριασμοί\") for x in list] \n",
    "paroxes_with_merged_in_log = []\n",
    "for path in full_path_list:\n",
    "    if not any('merged' in file for file in os.listdir(path)):\n",
    "        paroxi = path.split(\"\\\\\")[-2]\n",
    "        paroxes_with_merged_in_log.append(paroxi)\n"
   ]
  },
  {
   "cell_type": "code",
   "execution_count": null,
   "metadata": {},
   "outputs": [],
   "source": [
    "merged_in_log = set(paroxes_with_merged_in_log).difference(set(paroxes_with_merged_in_main))\n",
    "for paroxi in merged_in_log:\n",
    "    print(paroxi)"
   ]
  },
  {
   "cell_type": "code",
   "execution_count": null,
   "metadata": {},
   "outputs": [],
   "source": []
  }
 ],
 "metadata": {
  "kernelspec": {
   "display_name": "Python 3",
   "language": "python",
   "name": "python3"
  },
  "language_info": {
   "codemirror_mode": {
    "name": "ipython",
    "version": 3
   },
   "file_extension": ".py",
   "mimetype": "text/x-python",
   "name": "python",
   "nbconvert_exporter": "python",
   "pygments_lexer": "ipython3",
   "version": "3.11.5"
  }
 },
 "nbformat": 4,
 "nbformat_minor": 2
}
